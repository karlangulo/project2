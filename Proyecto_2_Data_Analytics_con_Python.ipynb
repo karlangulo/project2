{
  "nbformat": 4,
  "nbformat_minor": 0,
  "metadata": {
    "colab": {
      "provenance": [],
      "include_colab_link": true
    },
    "kernelspec": {
      "name": "python3",
      "display_name": "Python 3"
    },
    "language_info": {
      "name": "python"
    }
  },
  "cells": [
    {
      "cell_type": "markdown",
      "metadata": {
        "id": "view-in-github",
        "colab_type": "text"
      },
      "source": [
        "<a href=\"https://colab.research.google.com/github/karlangulo/project2/blob/main/Proyecto_2_Data_Analytics_con_Python.ipynb\" target=\"_parent\"><img src=\"https://colab.research.google.com/assets/colab-badge.svg\" alt=\"Open In Colab\"/></a>"
      ]
    },
    {
      "cell_type": "markdown",
      "source": [
        "# Proyecto 2 - Proceso de generación de valor por extración de datos\n"
      ],
      "metadata": {
        "id": "pOhibryEonSI"
      }
    },
    {
      "cell_type": "markdown",
      "source": [
        "Este proyecto esta diseñado para que usted pueda:\n",
        "\n",
        "1.   Poner en práctica los conocimientos específicos del leguaje Python y las bibliotecas de Pandas, Matplotlib con Seaborn y numpy\n",
        "2.   Generar una plantilla reutilizable de un proceso de limpieza, consolidación y carga de datos\n",
        "3.   Aplicar los conocimientos analizando una base de datos del mundo real.\n",
        "\n",
        "Utilizaremos el dataset superstore que puede encontar en la carpeta de datasets de Google Drive. Este es la información de ventas y ordenes de cuatro años de una tienda en línea y le permitirá hacer análisis de ventas, categorías etc.\n",
        "\n",
        "Mantenga en mente que algunos errores en carga y limpieza de datos pueden surgir. Su tarea es identificarlos y sobreponerse a ellos.\n",
        "\n"
      ],
      "metadata": {
        "id": "oXPs8b_fou_z"
      }
    },
    {
      "cell_type": "markdown",
      "source": [
        "https://drive.google.com/drive/folders/1ORwXEjTKVsW5P1tp4oxa3keJLmEeGuUT?usp=sharing"
      ],
      "metadata": {
        "id": "qA7zgIl0WiIc"
      }
    },
    {
      "cell_type": "code",
      "source": [],
      "metadata": {
        "id": "zltk5pKsouYA"
      },
      "execution_count": null,
      "outputs": []
    },
    {
      "cell_type": "markdown",
      "source": [
        "# Importar Datos e Identificar variables a limpiar"
      ],
      "metadata": {
        "id": "Mjz4Rx2pv2vd"
      }
    },
    {
      "cell_type": "code",
      "execution_count": null,
      "metadata": {
        "id": "XqtluUm1vxg_"
      },
      "outputs": [],
      "source": []
    },
    {
      "cell_type": "markdown",
      "source": [
        "# Limpieza de Datos"
      ],
      "metadata": {
        "id": "6Eys7fU3xsKQ"
      }
    },
    {
      "cell_type": "code",
      "source": [],
      "metadata": {
        "id": "DAJvKLerxwbC"
      },
      "execution_count": null,
      "outputs": []
    },
    {
      "cell_type": "markdown",
      "source": [
        "# Creación de nueva base de datos en Google Drive"
      ],
      "metadata": {
        "id": "VLsfTaw4xw3r"
      }
    },
    {
      "cell_type": "code",
      "source": [],
      "metadata": {
        "id": "vh2pNzi12kX2"
      },
      "execution_count": null,
      "outputs": []
    },
    {
      "cell_type": "markdown",
      "source": [
        "# Explorando datos\n",
        "\n",
        "Conectar a la nueva base de datos"
      ],
      "metadata": {
        "id": "T7O46GSZ2kou"
      }
    },
    {
      "cell_type": "code",
      "source": [],
      "metadata": {
        "id": "83HtD_K92p9-"
      },
      "execution_count": null,
      "outputs": []
    },
    {
      "cell_type": "markdown",
      "source": [
        "# Analizando Categorías, tendencias, medias y creando valor"
      ],
      "metadata": {
        "id": "WTxHFNE82qMd"
      }
    },
    {
      "cell_type": "markdown",
      "source": [
        "Su función será crear un \"deep dive\" que explorara 2 a 4 preguntas de negocios que pueda hacer con los datos: ¿Cuál es el mejor día de la semana de ventas? etc. Como mínimo su análisis debe incluir:\n",
        "\n",
        "- Comparar dos variables con al menos una segmentación por categoría\n",
        "- Analizar gráficamente multiples variables numéricas\n",
        "- Plot charts, Gráficos de tendencia y Barra con su análisis de que significa\n",
        "- Utilizar las ideas anteriores como sea necesario para cada pregunta de negocio.\n",
        "\n"
      ],
      "metadata": {
        "id": "Ghzcciw6jzdC"
      }
    },
    {
      "cell_type": "markdown",
      "source": [],
      "metadata": {
        "id": "DKLb1W6g_G6d"
      }
    },
    {
      "cell_type": "code",
      "source": [],
      "metadata": {
        "id": "wu3K2yhbp-iB"
      },
      "execution_count": null,
      "outputs": []
    },
    {
      "cell_type": "markdown",
      "source": [
        "# Conclusiones"
      ],
      "metadata": {
        "id": "7RTDtHLcp7Et"
      }
    },
    {
      "cell_type": "code",
      "source": [],
      "metadata": {
        "id": "P6CsJ6Dep94Z"
      },
      "execution_count": null,
      "outputs": []
    }
  ]
}